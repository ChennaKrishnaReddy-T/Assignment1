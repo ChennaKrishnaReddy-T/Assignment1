{
 "cells": [
  {
   "cell_type": "markdown",
   "metadata": {},
   "source": [
    "# Task1\n",
    "# Question Number 1\n",
    "## First Program in Jupyter Notebook"
   ]
  },
  {
   "cell_type": "code",
   "execution_count": 58,
   "metadata": {},
   "outputs": [
    {
     "name": "stdout",
     "output_type": "stream",
     "text": [
      "Input Number is odd\n"
     ]
    }
   ],
   "source": [
    "# Code to find out even and odd number\n",
    "\n",
    "x = 15\n",
    "\n",
    "if x%2 == 0 :\n",
    "    print(\"Input number is even\")\n",
    "else:\n",
    "    print(\"Input Number is odd\")\n",
    "\n"
   ]
  },
  {
   "cell_type": "markdown",
   "metadata": {},
   "source": [
    "# Question Number 2\n",
    "## Program to find numbers between 2000 and 3200 which are divisible by 7 not divisible by 5"
   ]
  },
  {
   "cell_type": "code",
   "execution_count": 59,
   "metadata": {},
   "outputs": [
    {
     "name": "stdout",
     "output_type": "stream",
     "text": [
      "2002,2009,2016,2023,2037,2044,2051,2058,2072,2079,2086,2093,2107,2114,2121,2128,2142,2149,2156,2163,2177,2184,2191,2198,2212,2219,2226,2233,2247,2254,2261,2268,2282,2289,2296,2303,2317,2324,2331,2338,2352,2359,2366,2373,2387,2394,2401,2408,2422,2429,2436,2443,2457,2464,2471,2478,2492,2499,2506,2513,2527,2534,2541,2548,2562,2569,2576,2583,2597,2604,2611,2618,2632,2639,2646,2653,2667,2674,2681,2688,2702,2709,2716,2723,2737,2744,2751,2758,2772,2779,2786,2793,2807,2814,2821,2828,2842,2849,2856,2863,2877,2884,2891,2898,2912,2919,2926,2933,2947,2954,2961,2968,2982,2989,2996,3003,3017,3024,3031,3038,3052,3059,3066,3073,3087,3094,3101,3108,3122,3129,3136,3143,3157,3164,3171,3178,3192,3199,"
     ]
    }
   ],
   "source": [
    "# Q N0 2\n",
    "output = \"\"\n",
    "for num in range(2000,3200):\n",
    "    if (num%7 == 0) and (num%5 !=0):\n",
    "        output = str(num) \n",
    "        print(output,end = \",\")"
   ]
  },
  {
   "cell_type": "markdown",
   "metadata": {},
   "source": [
    "# Question Number 3\n",
    "## Reversing First Name and Second Name"
   ]
  },
  {
   "cell_type": "code",
   "execution_count": 60,
   "metadata": {},
   "outputs": [
    {
     "name": "stdout",
     "output_type": "stream",
     "text": [
      " annehC anhsirK\n"
     ]
    }
   ],
   "source": [
    "# Q No 3\n",
    "\n",
    "\n",
    "    \n",
    "firstName = \"Chenna\"\n",
    "lastName = \"Krishna\"\n",
    "   \n",
    "#Function definition\n",
    "def fRevFirstAndSecondName(sFirstName,sLastName):\n",
    "    size = len(sFirstName)\n",
    "    rFirstName = \" \"\n",
    "    rLastName = \" \"\n",
    "    #First method reversing the string\n",
    "    while size > 0:\n",
    "        rFirstName +=  sFirstName[size-1]\n",
    "        size = size - 1\n",
    "    \n",
    "    #Second Method of reversing the string\n",
    "    rLastName = sLastName[::-1]\n",
    "    print(rFirstName + \" \" + rLastName)\n",
    "    \n",
    "\n",
    "#Function call\n",
    "fRevFirstAndSecondName(firstName,lastName)   \n"
   ]
  },
  {
   "cell_type": "markdown",
   "metadata": {},
   "source": [
    "## Question 4\n",
    "### Program to find volume of a sphere"
   ]
  },
  {
   "cell_type": "code",
   "execution_count": 61,
   "metadata": {},
   "outputs": [
    {
     "name": "stdout",
     "output_type": "stream",
     "text": [
      "Volume of sphere is 7241.142857142856\n"
     ]
    }
   ],
   "source": [
    "# Program to find out volume of a sphere\n",
    "\n",
    "radius = 12\n",
    "         \n",
    "\n",
    "\n",
    "def volCalculator(radius):\n",
    "    vol = 0\n",
    "    vol = (4/3)*(22/7)*radius*radius*radius\n",
    "    print(\"Volume of sphere is \" + str(vol))\n",
    "\n",
    "          \n",
    "volCalculator(radius)"
   ]
  },
  {
   "cell_type": "markdown",
   "metadata": {},
   "source": [
    "# Task 2\n",
    "## Question Number 2\n",
    "### Accepting numbers from console and adding them into list"
   ]
  },
  {
   "cell_type": "code",
   "execution_count": 62,
   "metadata": {},
   "outputs": [
    {
     "name": "stdout",
     "output_type": "stream",
     "text": [
      "1,2,45,23,99\n",
      "[1, 2, 45, 23, 99]\n"
     ]
    }
   ],
   "source": [
    "# Question Number 1\n",
    "\n",
    "# Code to take input from console\n",
    "consInput = input()\n",
    "numList = []\n",
    "\n",
    "#splitting the input string based on commas\n",
    "consInput = consInput.split(\",\")\n",
    "\n",
    "for a in consInput:\n",
    "    if a != ',':\n",
    "        numList.append(int(a))\n",
    "\n",
    "print(numList)"
   ]
  },
  {
   "cell_type": "markdown",
   "metadata": {},
   "source": [
    "## Question Number 2\n",
    "### Printing the pattern using nested for loop"
   ]
  },
  {
   "cell_type": "code",
   "execution_count": 63,
   "metadata": {},
   "outputs": [
    {
     "name": "stdout",
     "output_type": "stream",
     "text": [
      "* \r\n",
      "* * \r\n",
      "* * * \r\n",
      "* * * * \r\n",
      "* * * * * \r\n",
      "* * * * \r\n",
      "* * * \r\n",
      "* * \r\n",
      "* \r\n",
      "\r\n"
     ]
    }
   ],
   "source": [
    "# Question Number 2\n",
    "\n",
    "def pattern(n):\n",
    "    \n",
    "    for i in range(0,n):\n",
    "        for j in range(0,i+1):\n",
    "            print('*', end = \" \")\n",
    "        \n",
    "        print(\"\\r\")\n",
    "    \n",
    "    for i in range(n,0,-1):\n",
    "        for j in range(0,i-1):\n",
    "            print('*', end = \" \")\n",
    "        \n",
    "        print(\"\\r\")\n",
    "\n",
    "\n",
    "n = 5\n",
    "pattern(5)"
   ]
  },
  {
   "cell_type": "markdown",
   "metadata": {},
   "source": [
    "## Question Number 3\n",
    "### Reversing Input word"
   ]
  },
  {
   "cell_type": "code",
   "execution_count": 64,
   "metadata": {},
   "outputs": [
    {
     "name": "stdout",
     "output_type": "stream",
     "text": [
      "sundayisaholiday\n",
      "yadilohasiyadnus\n"
     ]
    }
   ],
   "source": [
    "# Question Number 3\n",
    "\n",
    "consInput = input()\n",
    "rString = \"\"\n",
    "rString = consInput[::-1]\n",
    "\n",
    "print(rString)"
   ]
  },
  {
   "cell_type": "markdown",
   "metadata": {},
   "source": [
    "## Question Number 4\n",
    "### Printing Text in predefined pattern"
   ]
  },
  {
   "cell_type": "code",
   "execution_count": 65,
   "metadata": {},
   "outputs": [
    {
     "name": "stdout",
     "output_type": "stream",
     "text": [
      "WE, THE PEOPLE OF INDIA, \n",
      "      having solemnly resolved to constitute India into a SOVEREIGN, ! \n",
      "\t     SOCIALIST, SECULAR, DEMOCRATIC REPUBLIC \n",
      "\t     and to secure to all its citizens\n"
     ]
    }
   ],
   "source": [
    "# Question Number 4\n",
    "\n",
    "#printing in specified format using print statement\n",
    "print(\"WE, THE PEOPLE OF INDIA, \\n      having solemnly resolved to constitute India into a SOVEREIGN, ! \\n\\t     SOCIALIST, SECULAR, DEMOCRATIC REPUBLIC \\n\\t     and to secure to all its citizens\")"
   ]
  }
 ],
 "metadata": {
  "kernelspec": {
   "display_name": "Python 3",
   "language": "python",
   "name": "python3"
  },
  "language_info": {
   "codemirror_mode": {
    "name": "ipython",
    "version": 3
   },
   "file_extension": ".py",
   "mimetype": "text/x-python",
   "name": "python",
   "nbconvert_exporter": "python",
   "pygments_lexer": "ipython3",
   "version": "3.7.1"
  }
 },
 "nbformat": 4,
 "nbformat_minor": 2
}
